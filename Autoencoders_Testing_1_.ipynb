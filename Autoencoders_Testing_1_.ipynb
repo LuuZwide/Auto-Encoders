{
  "nbformat": 4,
  "nbformat_minor": 0,
  "metadata": {
    "colab": {
      "provenance": [],
      "authorship_tag": "ABX9TyNJpI9yvFGQc/0+V7rWcbOH",
      "include_colab_link": true
    },
    "kernelspec": {
      "name": "python3",
      "display_name": "Python 3"
    },
    "language_info": {
      "name": "python"
    }
  },
  "cells": [
    {
      "cell_type": "markdown",
      "metadata": {
        "id": "view-in-github",
        "colab_type": "text"
      },
      "source": [
        "<a href=\"https://colab.research.google.com/github/LuuZwide/Auto-Encoders/blob/main/Autoencoders_Testing_1_.ipynb\" target=\"_parent\"><img src=\"https://colab.research.google.com/assets/colab-badge.svg\" alt=\"Open In Colab\"/></a>"
      ]
    },
    {
      "cell_type": "code",
      "execution_count": null,
      "metadata": {
        "colab": {
          "base_uri": "https://localhost:8080/"
        },
        "id": "yxmjf3rmsq99",
        "outputId": "9bc1407c-dc8c-4fcd-e06d-915b9abc6f0c"
      },
      "outputs": [
        {
          "output_type": "stream",
          "name": "stdout",
          "text": [
            "Mounted at /content/drive\n"
          ]
        }
      ],
      "source": [
        "from google.colab import drive\n",
        "import pandas as pd\n",
        "import numpy as np\n",
        "import yfinance as yf\n",
        "drive.mount('/content/drive')\n",
        "!cp \"/content/drive/MyDrive/Functions/Preprocessing/Precossing_Functions_for_stock_chpters_1.ipynb\" .\n",
        "%run Precossing_Functions_for_stock_chpters_1.ipynb\n",
        "\n",
        "from sklearn.preprocessing import StandardScaler\n",
        "from sklearn.svm import LinearSVC, SVC, LinearSVR, SVR\n",
        "from sklearn.preprocessing import PolynomialFeatures\n",
        "from sklearn.metrics import confusion_matrix, roc_curve, precision_score, recall_score, precision_recall_curve,roc_auc_score\n",
        "from sklearn.model_selection import cross_val_score,cross_val_predict\n",
        "from sklearn.preprocessing import PolynomialFeatures, MinMaxScaler, MaxAbsScaler"
      ]
    },
    {
      "cell_type": "code",
      "source": [
        "import tensorflow as tf\n",
        "from tensorflow import keras\n",
        "from tensorflow.keras.callbacks import LearningRateScheduler, EarlyStopping\n",
        "import tensorflow.keras.backend as K\n",
        "from keras.activations import elu\n",
        "from keras.engine.training import optimizer\n",
        "from tensorflow.keras.callbacks import EarlyStopping\n",
        "from tensorflow.keras.models import Model"
      ],
      "metadata": {
        "id": "DPY_Ip7es1OM"
      },
      "execution_count": null,
      "outputs": []
    },
    {
      "cell_type": "code",
      "source": [
        "ticker = yf.Ticker(\"AAPL\")\n",
        "apple_data = ticker.history(period=\"Max\")\n",
        "apple_data = apple_data.drop(['Dividends','Stock Splits'] , axis = 1)\n",
        "apple_data.reset_index(drop = False, inplace = True)\n",
        "\n",
        "ticker = yf.Ticker(\"IBM\")\n",
        "ibm_data = ticker.history(period=\"Max\")\n",
        "ibm_data = ibm_data.drop(['Dividends','Stock Splits'] , axis = 1)\n",
        "ibm_data.reset_index(drop = False, inplace = True)\n",
        "\n",
        "ticker = yf.Ticker(\"GE\")\n",
        "ge_data = ticker.history(period=\"Max\")\n",
        "ge_data = ge_data.drop(['Dividends','Stock Splits'] , axis = 1)\n",
        "ge_data.reset_index(drop = False, inplace = True)\n",
        "\n",
        "ticker = yf.Ticker(\"amzn\")\n",
        "amzn_data = ticker.history(period=\"Max\")\n",
        "amzn_data = amzn_data.drop(['Dividends','Stock Splits'] , axis = 1)\n",
        "amzn_data.reset_index(drop = False, inplace = True)\n",
        "\n",
        "ticker = yf.Ticker(\"GOOGL\")\n",
        "google_data = ticker.history(period=\"Max\")\n",
        "google_data = google_data.drop(['Dividends','Stock Splits'] , axis = 1)\n",
        "google_data.reset_index(drop = False, inplace = True)\n",
        "\n",
        "stock_pd = pd.concat([ibm_data,google_data,amzn_data,ge_data])\n",
        "stock_pd = stock_pd.reset_index(drop = True)\n",
        "stock_pd.head()\n",
        "stock_pd.describe()\n",
        "\n",
        "prices = stock_pd['Close']\n",
        "len_of_data = len(prices)\n",
        "window_size = 5\n",
        "stock_dataset = Combine_dataframes(stock_pd ,prices, window_size,len_of_data, fast = 12, slow = 26)\n",
        "\n",
        "y = stock_dataset['next_close']\n",
        "X = stock_dataset.drop('next_close', axis = 1)\n",
        "print(X)\n",
        "\n",
        "x_train, x_test, y_train, y_test = train_test_split(X, y, test_size = 0.2, shuffle = False)\n",
        "attribs = list(x_train.columns)\n",
        "#attribs = list(['Open', 'High', 'Low', 'Close', 'moving_avg', 'exm_avg'])\n",
        "print(len(x_train))\n",
        "print(len(x_test))"
      ],
      "metadata": {
        "colab": {
          "base_uri": "https://localhost:8080/"
        },
        "id": "MXHSm5mjs6I1",
        "outputId": "a4e183fb-e6c3-4bc9-97dc-6d43c9a276eb"
      },
      "execution_count": null,
      "outputs": [
        {
          "output_type": "stream",
          "name": "stdout",
          "text": [
            "            Open        High        Low      Close   Volume  moving_avg  \\\n",
            "0       1.631550    1.631550   1.613218   1.613218   407940    0.000000   \n",
            "1       1.613217    1.627319   1.613217   1.627319   305955    0.000000   \n",
            "2       1.627319    1.627319   1.610398   1.611103   274575    0.000000   \n",
            "3       1.608987    1.608987   1.576553   1.579374   384405    0.000000   \n",
            "4       1.577964    1.577964   1.537070   1.549761   572685    1.596155   \n",
            "...          ...         ...        ...        ...      ...         ...   \n",
            "42087  95.620003   96.849998  95.480003  96.769997  6126100   94.904001   \n",
            "42088  97.000000   98.519997  96.860001  98.470001  7110800   95.816000   \n",
            "42089  98.580002   99.309998  98.419998  99.029999  5617000   96.802000   \n",
            "42090  99.300003  100.470001  99.059998  99.760002  6912400   97.894000   \n",
            "42091  99.980003  100.080002  99.129997  99.510002  4079400   98.708000   \n",
            "\n",
            "         exm_avg  STOCHk_5_3_3  STOCHd_5_3_3  MACD_12_26_9  MACDh_12_26_9  \\\n",
            "0       1.613218      0.000000      0.000000      0.000000       0.000000   \n",
            "1       1.621678      0.000000      0.000000      0.000000       0.000000   \n",
            "2       1.616669      0.000000      0.000000      0.000000       0.000000   \n",
            "3       1.601177      0.000000      0.000000      0.000000       0.000000   \n",
            "4       1.581439      0.000000      0.000000      0.000000       0.000000   \n",
            "...          ...           ...           ...           ...            ...   \n",
            "42087  95.340195     81.007376     57.164766      1.973302      -0.179749   \n",
            "42088  96.383464     95.808871     78.588705      2.142954      -0.008077   \n",
            "42089  97.265642     97.282856     91.366368      2.296124       0.116074   \n",
            "42090  98.097095     94.518282     95.870003      2.448196       0.214517   \n",
            "42091  98.568064     88.435463     93.412201      2.519498       0.228655   \n",
            "\n",
            "       MACDs_12_26_9  \n",
            "0           0.000000  \n",
            "1           0.000000  \n",
            "2           0.000000  \n",
            "3           0.000000  \n",
            "4           0.000000  \n",
            "...              ...  \n",
            "42087       2.153051  \n",
            "42088       2.151031  \n",
            "42089       2.180050  \n",
            "42090       2.233679  \n",
            "42091       2.290843  \n",
            "\n",
            "[42092 rows x 12 columns]\n",
            "33673\n",
            "8419\n"
          ]
        }
      ]
    },
    {
      "cell_type": "code",
      "source": [
        "data_pipeline = Pipeline(\n",
        "    (\n",
        "        ('ConvertDataFrame',DataFrameSelector(attribs)),\n",
        "        ('Scaler', MinMaxScaler())\n",
        "    )\n",
        ")\n",
        "\n",
        "x_train_prepared = data_pipeline.fit_transform(x_train)\n",
        "print('x_train shape: ',x_train_prepared.shape)\n",
        "print('y_train shape: ',y_train.shape)"
      ],
      "metadata": {
        "colab": {
          "base_uri": "https://localhost:8080/"
        },
        "id": "3ZIArM8Os8aN",
        "outputId": "71b1ef63-9b6a-477d-b44b-49e0f6e1b9b6"
      },
      "execution_count": null,
      "outputs": [
        {
          "output_type": "stream",
          "name": "stdout",
          "text": [
            "x_train shape:  (33673, 12)\n",
            "y_train shape:  (33673,)\n"
          ]
        }
      ]
    },
    {
      "cell_type": "code",
      "source": [
        "lr = 0.001\n",
        "encoding_dim = 5\n",
        "\n",
        "input_layer = keras.layers.Input(shape = x_train_prepared.shape[1])\n",
        "encoder_layer_one = keras.layers.Dense(32, activation = 'relu')(input_layer)\n",
        "encoder_layer_two = keras.layers.Dense(16, activation = 'relu')(encoder_layer_one)\n",
        "encoder = keras.layers.Dense(encoding_dim)(encoder_layer_two)\n",
        "\n",
        "decoder_layer_one = keras.layers.Dense(16, activation = 'relu')(encoder)\n",
        "decoder_layer_two = keras.layers.Dense(32, activation = 'relu')(decoder_layer_one)\n",
        "decoder = keras.layers.Dense(x_train_prepared.shape[1])(decoder_layer_two)\n",
        "autoencoder = Model(inputs = input_layer, outputs = decoder)\n",
        "\n",
        "autoencoder.compile(optimizer = keras.optimizers.Adam(learning_rate = lr), loss= 'mean_squared_error')\n",
        "autoencoder.fit(\n",
        "    x = x_train_prepared,\n",
        "    y = y_train,\n",
        "    epochs = 50,\n",
        "    batch_size = 128\n",
        ")"
      ],
      "metadata": {
        "colab": {
          "base_uri": "https://localhost:8080/"
        },
        "id": "Ve1R1paJtyQm",
        "outputId": "1404aa1a-8251-4360-b82e-f87c120aa49a"
      },
      "execution_count": null,
      "outputs": [
        {
          "output_type": "stream",
          "name": "stdout",
          "text": [
            "Epoch 1/50\n",
            "264/264 [==============================] - 2s 2ms/step - loss: 1081.4727\n",
            "Epoch 2/50\n",
            "264/264 [==============================] - 1s 5ms/step - loss: 3.0249\n",
            "Epoch 3/50\n",
            "264/264 [==============================] - 1s 5ms/step - loss: 2.4403\n",
            "Epoch 4/50\n",
            "264/264 [==============================] - 1s 3ms/step - loss: 2.3864\n",
            "Epoch 5/50\n",
            "264/264 [==============================] - 1s 3ms/step - loss: 2.3863\n",
            "Epoch 6/50\n",
            "264/264 [==============================] - 1s 3ms/step - loss: 2.3065\n",
            "Epoch 7/50\n",
            "264/264 [==============================] - 1s 2ms/step - loss: 2.3138\n",
            "Epoch 8/50\n",
            "264/264 [==============================] - 1s 2ms/step - loss: 2.2816\n",
            "Epoch 9/50\n",
            "264/264 [==============================] - 1s 2ms/step - loss: 2.2722\n",
            "Epoch 10/50\n",
            "264/264 [==============================] - 1s 2ms/step - loss: 2.3336\n",
            "Epoch 11/50\n",
            "264/264 [==============================] - 1s 2ms/step - loss: 2.2295\n",
            "Epoch 12/50\n",
            "264/264 [==============================] - 1s 2ms/step - loss: 2.2359\n",
            "Epoch 13/50\n",
            "264/264 [==============================] - 1s 2ms/step - loss: 2.2576\n",
            "Epoch 14/50\n",
            "264/264 [==============================] - 1s 2ms/step - loss: 2.2195\n",
            "Epoch 15/50\n",
            "264/264 [==============================] - 1s 2ms/step - loss: 2.2655\n",
            "Epoch 16/50\n",
            "264/264 [==============================] - 1s 2ms/step - loss: 2.2366\n",
            "Epoch 17/50\n",
            "264/264 [==============================] - 1s 2ms/step - loss: 2.2394\n",
            "Epoch 18/50\n",
            "264/264 [==============================] - 1s 2ms/step - loss: 2.2377\n",
            "Epoch 19/50\n",
            "264/264 [==============================] - 1s 2ms/step - loss: 2.2488\n",
            "Epoch 20/50\n",
            "264/264 [==============================] - 1s 2ms/step - loss: 2.2461\n",
            "Epoch 21/50\n",
            "264/264 [==============================] - 1s 2ms/step - loss: 2.2304\n",
            "Epoch 22/50\n",
            "264/264 [==============================] - 1s 2ms/step - loss: 2.1896\n",
            "Epoch 23/50\n",
            "264/264 [==============================] - 1s 2ms/step - loss: 2.1827\n",
            "Epoch 24/50\n",
            "264/264 [==============================] - 1s 2ms/step - loss: 2.1425\n",
            "Epoch 25/50\n",
            "264/264 [==============================] - 1s 2ms/step - loss: 2.1872\n",
            "Epoch 26/50\n",
            "264/264 [==============================] - 1s 3ms/step - loss: 2.1861\n",
            "Epoch 27/50\n",
            "264/264 [==============================] - 1s 3ms/step - loss: 2.2019\n",
            "Epoch 28/50\n",
            "264/264 [==============================] - 1s 3ms/step - loss: 2.3040\n",
            "Epoch 29/50\n",
            "264/264 [==============================] - 1s 3ms/step - loss: 2.2011\n",
            "Epoch 30/50\n",
            "264/264 [==============================] - 1s 3ms/step - loss: 2.1807\n",
            "Epoch 31/50\n",
            "264/264 [==============================] - 1s 3ms/step - loss: 2.1233\n",
            "Epoch 32/50\n",
            "264/264 [==============================] - 1s 2ms/step - loss: 2.1485\n",
            "Epoch 33/50\n",
            "264/264 [==============================] - 1s 2ms/step - loss: 2.2217\n",
            "Epoch 34/50\n",
            "264/264 [==============================] - 1s 2ms/step - loss: 2.1643\n",
            "Epoch 35/50\n",
            "264/264 [==============================] - 1s 2ms/step - loss: 2.1589\n",
            "Epoch 36/50\n",
            "264/264 [==============================] - 1s 2ms/step - loss: 2.1611\n",
            "Epoch 37/50\n",
            "264/264 [==============================] - 1s 2ms/step - loss: 2.1301\n",
            "Epoch 38/50\n",
            "264/264 [==============================] - 1s 2ms/step - loss: 2.1496\n",
            "Epoch 39/50\n",
            "264/264 [==============================] - 1s 2ms/step - loss: 2.1305\n",
            "Epoch 40/50\n",
            "264/264 [==============================] - 1s 2ms/step - loss: 2.1293\n",
            "Epoch 41/50\n",
            "264/264 [==============================] - 1s 2ms/step - loss: 2.1694\n",
            "Epoch 42/50\n",
            "264/264 [==============================] - 0s 2ms/step - loss: 2.1248\n",
            "Epoch 43/50\n",
            "264/264 [==============================] - 1s 2ms/step - loss: 2.1457\n",
            "Epoch 44/50\n",
            "264/264 [==============================] - 1s 2ms/step - loss: 2.1772\n",
            "Epoch 45/50\n",
            "264/264 [==============================] - 1s 2ms/step - loss: 2.1453\n",
            "Epoch 46/50\n",
            "264/264 [==============================] - 1s 2ms/step - loss: 2.1670\n",
            "Epoch 47/50\n",
            "264/264 [==============================] - 1s 2ms/step - loss: 2.1864\n",
            "Epoch 48/50\n",
            "264/264 [==============================] - 1s 2ms/step - loss: 2.1428\n",
            "Epoch 49/50\n",
            "264/264 [==============================] - 1s 2ms/step - loss: 2.1555\n",
            "Epoch 50/50\n",
            "264/264 [==============================] - 1s 2ms/step - loss: 2.1570\n"
          ]
        },
        {
          "output_type": "execute_result",
          "data": {
            "text/plain": [
              "<keras.callbacks.History at 0x7fab6d680d60>"
            ]
          },
          "metadata": {},
          "execution_count": 13
        }
      ]
    }
  ]
}